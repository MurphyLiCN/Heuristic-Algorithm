{
 "cells": [
  {
   "cell_type": "code",
   "execution_count": 127,
   "outputs": [],
   "source": [
    "%reset"
   ],
   "metadata": {
    "collapsed": false
   }
  },
  {
   "cell_type": "code",
   "execution_count": 128,
   "outputs": [],
   "source": [
    "# 加载所需的库\n",
    "import pandas as pd\n",
    "import numpy as np\n",
    "import matplotlib.pyplot as plt"
   ],
   "metadata": {
    "collapsed": false
   }
  },
  {
   "cell_type": "code",
   "execution_count": 129,
   "outputs": [],
   "source": [
    "def initialization(parameter):\n",
    "    #产生随机的工作表\n",
    "    joblist = pd.DataFrame(columns=['d_min','d_max','w_o','w_f','p','w','start','stop'],\n",
    "                           dtype = int)\n",
    "    #Trapezoidal Suitability Function，打分函数，列标题代表区块开始的时间点\n",
    "    tsf = pd.DataFrame(0,\n",
    "                       index=range(parameter['time_units']),\n",
    "                       columns=range(parameter['n']))\n",
    "    # 依次生成每一个任务的属性\n",
    "    for i in range(parameter['n']):\n",
    "        #时间段：w,d_min,d_max,d\n",
    "        d_min = np.random.randint(parameter['d_min'],parameter['d_max']+1)\n",
    "        d_max = np.random.randint(d_min,parameter['d_max']+1)\n",
    "        w = np.random.randint(d_max,parameter['w_max']+1)\n",
    "        #时间点：w_o,w_f,start,stop\n",
    "        w_o = np.random.randint(0,parameter['time_units']-w)\n",
    "        w_f = w_o + w\n",
    "        #优先级：p\n",
    "        p = np.random.randint(1,parameter['p_max']+1)\n",
    "        # 更新joblist\n",
    "        joblist.loc[i] = (d_min,d_max,w_o,w_f,p,w,0,0)\n",
    "\n",
    "        # 更新打分函数\n",
    "        s_i = tsf[i].copy()\n",
    "        # 梯形4个顶点\n",
    "        a = w_o\n",
    "        b = int( w_o + np.ceil((w - d_max)/2) )\n",
    "        c = b + d_max\n",
    "        d = w_f\n",
    "        #赋值1\n",
    "        s_i[range(b,c)] = 1\n",
    "        #赋值2\n",
    "        if b > a:\n",
    "            degree_1 = 1/(2*(b-a))\n",
    "            n_1 = 1\n",
    "            for j in range(a,b):\n",
    "                s_i[j] = degree_1 * (2 * n_1 - 1)\n",
    "                n_1 += 1\n",
    "        #赋值3\n",
    "        if d > c:\n",
    "            degree_2 = 1/(2*(d-c))\n",
    "            n_2 = 1\n",
    "            for j in range(d-1,c-1,-1):\n",
    "                s_i[j] = degree_2 * (2 * n_2 - 1)\n",
    "                n_2 += 1\n",
    "        #更新打分函数\n",
    "        tsf[i] = s_i\n",
    "\n",
    "    return tsf,joblist"
   ],
   "metadata": {
    "collapsed": false
   }
  },
  {
   "cell_type": "code",
   "execution_count": 130,
   "outputs": [],
   "source": [
    "def pd_sequencing(parameter,pd_jobindex,job):\n",
    "    pd_job = job.copy()\n",
    "    #总时间轴,1代表位置可用\n",
    "    pd_timetable = pd.Series(1,index=range(parameter['time_units']))\n",
    "    #初始化总时间轴，因为有可能已经有任务指定了时间\n",
    "    for i in range(parameter['n']):\n",
    "        pd_timetable.loc[range(pd_job.loc[i,'start'],pd_job.loc[i,'stop'])]=0\n",
    "    #任务时间轴,1代表该时间在该任务的窗口中\n",
    "    empty_timetable = pd.Series(0,index=range(parameter['time_units']))\n",
    "    #建立空工作表，按顺序存放被选择的工作的序号\n",
    "    chosen_job_list = list()\n",
    "\n",
    "    #对每一个工作进行判断\n",
    "    for i in range(len(pd_jobindex)):\n",
    "        job_index = pd_jobindex[i]\n",
    "        job_info = pd_job.loc[job_index,]\n",
    "\n",
    "        d_min = job_info.loc['d_min']\n",
    "        d_max = job_info.loc['d_max']\n",
    "        w_o = job_info.loc['w_o']\n",
    "        w_f = job_info.loc['w_f']\n",
    "        p = job_info.loc['p']\n",
    "        w = job_info.loc['w']\n",
    "        #下序列用来存放每一个开始时间，长度为d_min的工作带来的收益\n",
    "        position_value = pd.Series(0,index=range(parameter['time_units']))\n",
    "        #假设没有可供使用的位置\n",
    "        at_least_one = False\n",
    "        #对每一个位置进行测试\n",
    "        for j in range(w-d_min+1):\n",
    "            test_start = w_o+j\n",
    "            test_stop = test_start+d_min\n",
    "            test_job = empty_timetable.copy()\n",
    "            test_job.loc[range(test_start,test_stop)]=1\n",
    "            #判断位置是否可用\n",
    "            if np.sum(test_job*pd_timetable) == d_min:\n",
    "                at_least_one = True\n",
    "                position_value.loc[test_start] =\\\n",
    "                    np.sum(TSF.loc[range(test_start,test_stop),job_index])\n",
    "        #如果有至少一个可用位置，则选择最大的那个\n",
    "        if at_least_one:\n",
    "            decide_start = \\\n",
    "                np.min(position_value.index[position_value == position_value.max()])\n",
    "            decide_stop = decide_start+d_min\n",
    "            #更新工作表\n",
    "            pd_job.loc[job_index,'start'] = decide_start\n",
    "            pd_job.loc[job_index,'stop'] = decide_stop\n",
    "            #更新工作序号表\n",
    "            chosen_job_list.append(job_index)\n",
    "        else:\n",
    "            decide_start = 0\n",
    "            decide_stop = 0\n",
    "        #刚刚被占用的位置不再可用\n",
    "        pd_timetable.loc[range(decide_start,decide_stop)]=0\n",
    "\n",
    "    return pd_job,chosen_job_list"
   ],
   "metadata": {
    "collapsed": false
   }
  },
  {
   "cell_type": "code",
   "execution_count": 131,
   "outputs": [],
   "source": [
    "def pd_timing(pd_chosen_jobindex,pd_job):\n",
    "    test_pd_job = pd_job.copy()\n",
    "    #对每一个工作进行左右延伸\n",
    "    for i in range(len(pd_chosen_jobindex)):\n",
    "        job_index = pd_chosen_jobindex[i]\n",
    "        job_info = test_pd_job.loc[job_index,]\n",
    "\n",
    "        d_min = job_info.loc['d_min']\n",
    "        d_max = job_info.loc['d_max']\n",
    "        w_o = job_info.loc['w_o']\n",
    "        w_f = job_info.loc['w_f']\n",
    "        p = job_info.loc['p']\n",
    "        w = job_info.loc['w']\n",
    "        start = job_info.loc['start']\n",
    "        stop = job_info.loc['stop']\n",
    "        #左右边界\n",
    "        new_start = np.nanmax([test_pd_job.loc[test_pd_job.loc[:,'stop']<=start,'stop'].max(),\n",
    "                               w_o,stop-d_max])\n",
    "        new_stop = np.nanmin([test_pd_job.loc[test_pd_job.loc[:,'start']>=stop,'start'].min(),\n",
    "                              w_f,new_start+d_max])\n",
    "        #左右延伸\n",
    "        test_pd_job.loc[job_index,'start'] = new_start\n",
    "        test_pd_job.loc[job_index,'stop'] = new_stop\n",
    "    return test_pd_job"
   ],
   "metadata": {
    "collapsed": false
   }
  },
  {
   "cell_type": "code",
   "execution_count": 132,
   "outputs": [],
   "source": [
    "def get_timetable(job,parameter):\n",
    "    empty_timetable = pd.Series(-1,index=range(parameter['time_units']))\n",
    "    for i in range(parameter['n']):\n",
    "        empty_timetable.loc[range(job.loc[i,'start'],job.loc[i,'stop'])]=i\n",
    "    return empty_timetable"
   ],
   "metadata": {
    "collapsed": false
   }
  },
  {
   "cell_type": "code",
   "execution_count": 133,
   "outputs": [],
   "source": [
    "def score(JOB,TSF,parameter):\n",
    "    s = 0\n",
    "    for i in range(parameter['n']):\n",
    "        start = JOB.loc[i,'start']\n",
    "        stop = JOB.loc[i,'stop']\n",
    "        p = JOB.loc[i,'p']\n",
    "\n",
    "        s_i = 0\n",
    "        for j in range(start,stop):\n",
    "            s_i += TSF.loc[j,i]\n",
    "\n",
    "        s += s_i * p\n",
    "    return s"
   ],
   "metadata": {
    "collapsed": false
   }
  },
  {
   "cell_type": "code",
   "execution_count": 134,
   "outputs": [],
   "source": [
    "# 设置参数\n",
    "parameter = {'n':40,\n",
    "             'time_units' : 100,\n",
    "             'w_max':25,\n",
    "             'd_min':1,\n",
    "             'd_max':25,\n",
    "             'p_max':10}"
   ],
   "metadata": {
    "collapsed": false
   }
  },
  {
   "cell_type": "code",
   "execution_count": 135,
   "outputs": [],
   "source": [
    "#初始化\n",
    "np.random.seed(1)\n",
    "TSF,JOB = initialization(parameter)\n",
    "job_index_ordered_by_p = JOB.sort_values(by='p',ascending = False).index"
   ],
   "metadata": {
    "collapsed": false
   }
  },
  {
   "cell_type": "code",
   "execution_count": 136,
   "outputs": [],
   "source": [
    "#PD算法：任务按照p值排序\n",
    "pd_job = JOB.copy()"
   ],
   "metadata": {
    "collapsed": false
   }
  },
  {
   "cell_type": "code",
   "execution_count": 137,
   "outputs": [],
   "source": [
    "pd_job_after_sequencing,pd_job_index_sequencing_chosen = \\\n",
    "    pd_sequencing(parameter,job_index_ordered_by_p,pd_job)"
   ],
   "metadata": {
    "collapsed": false
   }
  },
  {
   "cell_type": "code",
   "execution_count": 138,
   "outputs": [],
   "source": [
    "pd_job_after_timing = \\\n",
    "    pd_timing(pd_job_index_sequencing_chosen,pd_job_after_sequencing)"
   ],
   "metadata": {
    "collapsed": false
   }
  },
  {
   "cell_type": "code",
   "execution_count": 139,
   "outputs": [],
   "source": [
    "pd_score = score(pd_job_after_timing,TSF,parameter)"
   ],
   "metadata": {
    "collapsed": false
   }
  },
  {
   "cell_type": "code",
   "execution_count": 140,
   "outputs": [],
   "source": [
    "pd_timetable = get_timetable(pd_job_after_timing,parameter)"
   ],
   "metadata": {
    "collapsed": false
   }
  },
  {
   "cell_type": "code",
   "execution_count": 141,
   "outputs": [],
   "source": [
    "def pd_get_score(f_parameter, f_job_index_ordered_by_p, f_job, f_tsf):\n",
    "    f_job_after_sequencing, f_job_index_sequencing_chosen = \\\n",
    "        pd_sequencing(f_parameter, f_job_index_ordered_by_p, f_job)\n",
    "    f_job_after_timing = \\\n",
    "        pd_timing(f_job_index_sequencing_chosen, f_job_after_sequencing)\n",
    "    f_score = score(f_job_after_timing, f_tsf, f_parameter)\n",
    "    return f_score"
   ],
   "metadata": {
    "collapsed": false
   }
  },
  {
   "cell_type": "code",
   "execution_count": 142,
   "outputs": [
    {
     "data": {
      "text/plain": "686.8555555555556"
     },
     "execution_count": 142,
     "metadata": {},
     "output_type": "execute_result"
    }
   ],
   "source": [
    "pd_get_score(parameter,job_index_ordered_by_p,pd_job,TSF)"
   ],
   "metadata": {
    "collapsed": false
   }
  },
  {
   "cell_type": "code",
   "execution_count": 143,
   "outputs": [],
   "source": [
    "def LA(job, f_job_index, f_parameter, f_tsf):\n",
    "    f_job = job.copy()\n",
    "\n",
    "    #总时间轴,1代表位置可用\n",
    "    f_timetable = pd.Series(1, index=range(f_parameter['time_units']))\n",
    "    #任务时间轴,1代表该时间在该任务的窗口中\n",
    "    empty_timetable = pd.Series(0, index=range(f_parameter['time_units']))\n",
    "\n",
    "    for i in range(f_parameter['n']):\n",
    "        job_index = f_job_index[i]\n",
    "        job_info = f_job.loc[job_index,]\n",
    "\n",
    "        d_min = job_info.loc['d_min']\n",
    "        d_max = job_info.loc['d_max']\n",
    "        w_o = job_info.loc['w_o']\n",
    "        w_f = job_info.loc['w_f']\n",
    "        p = job_info.loc['p']\n",
    "        w = job_info.loc['w']\n",
    "\n",
    "        test_score = 0\n",
    "        best_start = 0\n",
    "        best_stop = 0\n",
    "\n",
    "        for start in range(w_o,w_f-d_min+1):\n",
    "            for d in range(d_min,min(d_max,w_f-start)+1):\n",
    "                stop = start+d\n",
    "                test_timetable = empty_timetable.copy()\n",
    "                test_timetable.loc[range(start,stop)]=1\n",
    "\n",
    "                if np.sum(test_timetable * f_timetable) == d:\n",
    "                    test_LA_job = f_job.copy()\n",
    "                    test_LA_job.loc[job_index,'start'] = start\n",
    "                    test_LA_job.loc[job_index,'stop'] = stop\n",
    "                    test_job_index_ordered_by_p = f_job_index[(i + 1):]\n",
    "\n",
    "                    new_test_score = \\\n",
    "                        pd_get_score(f_parameter, test_job_index_ordered_by_p, test_LA_job, f_tsf)\n",
    "\n",
    "                    test_score = max(test_score,new_test_score)\n",
    "                    if new_test_score == test_score:\n",
    "                        best_start = start\n",
    "                        best_stop = stop\n",
    "\n",
    "        f_job.loc[job_index, 'start'] = best_start\n",
    "        f_job.loc[job_index, 'stop'] = best_stop\n",
    "\n",
    "        f_timetable.loc[range(best_start, best_stop)]=0\n",
    "\n",
    "    return f_job"
   ],
   "metadata": {
    "collapsed": false
   }
  },
  {
   "cell_type": "code",
   "execution_count": 144,
   "outputs": [],
   "source": [
    "LA_job = LA(JOB,job_index_ordered_by_p,parameter,TSF)"
   ],
   "metadata": {
    "collapsed": false
   }
  },
  {
   "cell_type": "code",
   "execution_count": 145,
   "outputs": [],
   "source": [
    "LA_score = score(LA_job,TSF,parameter)"
   ],
   "metadata": {
    "collapsed": false
   }
  },
  {
   "cell_type": "code",
   "execution_count": 146,
   "outputs": [],
   "source": [
    "LA_timetable = get_timetable(LA_job,parameter)"
   ],
   "metadata": {
    "collapsed": false
   }
  },
  {
   "cell_type": "code",
   "execution_count": 147,
   "outputs": [],
   "source": [
    "def PMX_crossover(parent1, parent2):\n",
    "    '''\n",
    "    parent1 and parent2 are 1D np.array\n",
    "    '''\n",
    "    rng = np.random.default_rng()\n",
    "\n",
    "    cutoff_1, cutoff_2 = np.sort(rng.choice(np.arange(len(parent1)+1), size=2, replace=False))\n",
    "\n",
    "    def PMX_one_offspring(p1, p2):\n",
    "        offspring = np.zeros(len(p1), dtype=p1.dtype)\n",
    "\n",
    "        # Copy the mapping section (middle) from parent1\n",
    "        offspring[cutoff_1:cutoff_2] = p1[cutoff_1:cutoff_2]\n",
    "\n",
    "        # copy the rest from parent2 (provided it's not already there\n",
    "        for i in np.concatenate([np.arange(0,cutoff_1), np.arange(cutoff_2,len(p1))]):\n",
    "            candidate = p2[i]\n",
    "            while candidate in p1[cutoff_1:cutoff_2]: # allows for several successive mappings\n",
    "                #print(f\"Candidate {candidate} not valid in position {i}\") # DEBUGONLY\n",
    "                candidate = p2[np.where(p1 == candidate)[0][0]]\n",
    "            offspring[i] = candidate\n",
    "        return offspring\n",
    "\n",
    "    offspring1 = PMX_one_offspring(parent1, parent2)\n",
    "\n",
    "    return offspring1\n"
   ],
   "metadata": {
    "collapsed": false
   }
  },
  {
   "cell_type": "code",
   "execution_count": 148,
   "outputs": [],
   "source": [
    "parent1 = np.array([1,2,3,4,5,6,7,8,9])\n",
    "parent2 = np.array([5,4,6,7,2,1,3,9,8])\n",
    "son1 = PMX_crossover(parent1, parent2)"
   ],
   "metadata": {
    "collapsed": false
   }
  },
  {
   "cell_type": "code",
   "execution_count": 175,
   "outputs": [],
   "source": [
    "GA_all = pd.DataFrame(columns=['index_list','score'])\n",
    "GA_job = JOB.copy()\n",
    "for i in range(100):\n",
    "    index_list = np.arange(40)\n",
    "    np.random.shuffle(index_list)\n",
    "    GA_score = pd_get_score(parameter,index_list,GA_job,TSF)\n",
    "    row = {'index_list':index_list,\n",
    "           'score':GA_score}\n",
    "    GA_all.loc[i] = row"
   ],
   "metadata": {
    "collapsed": false
   }
  },
  {
   "cell_type": "code",
   "execution_count": 176,
   "outputs": [],
   "source": [
    "GA_all.sort_values(by='score',ascending = False,inplace=True)"
   ],
   "metadata": {
    "collapsed": false
   }
  },
  {
   "cell_type": "code",
   "execution_count": 177,
   "outputs": [
    {
     "data": {
      "text/plain": "92    [13, 37, 25, 32, 12, 31, 28, 36, 7, 29, 30, 38...\n31    [19, 13, 24, 30, 12, 23, 4, 25, 7, 17, 15, 2, ...\n2     [25, 35, 37, 16, 34, 20, 22, 24, 33, 8, 29, 6,...\n8     [28, 22, 29, 13, 39, 34, 16, 4, 19, 12, 33, 7,...\n60    [11, 17, 26, 24, 1, 33, 36, 30, 32, 14, 35, 23...\n                            ...                        \n54    [4, 21, 12, 35, 3, 19, 5, 20, 23, 38, 11, 22, ...\n85    [33, 0, 16, 4, 23, 39, 35, 21, 38, 5, 2, 26, 1...\n5     [11, 1, 38, 14, 20, 10, 9, 37, 39, 18, 3, 4, 0...\n80    [33, 36, 3, 6, 24, 29, 4, 39, 12, 25, 13, 2, 3...\n30    [15, 38, 7, 26, 13, 10, 24, 17, 39, 6, 22, 28,...\nName: index_list, Length: 100, dtype: object"
     },
     "execution_count": 177,
     "metadata": {},
     "output_type": "execute_result"
    }
   ],
   "source": [
    "GA_all['index_list']"
   ],
   "metadata": {
    "collapsed": false
   }
  },
  {
   "cell_type": "code",
   "execution_count": 183,
   "outputs": [],
   "source": [
    "for i in range(1000):\n",
    "    GA_all.sort_values(by='score',ascending = False,inplace=True)\n",
    "    parent1_index = np.random.randint(50)\n",
    "    parent2_index = np.random.randint(100)\n",
    "    GA_all.loc[parent1_index,'index_list']\n",
    "    son1 = PMX_crossover(GA_all.loc[parent1_index,'index_list'],\n",
    "                         GA_all.loc[parent2_index,'index_list'])\n",
    "    GA_new_score = pd_get_score(parameter,son1,GA_job,TSF)\n",
    "    n = 0\n",
    "    while sum(GA_all['score'] == GA_new_score)>0 and n < 10:\n",
    "        index1 = np.random.randint(40)\n",
    "        index2 = np.random.randint(40)\n",
    "        mutation1 = son1[index1]\n",
    "        mutation2 = son1[index2]\n",
    "        son1[index1] = mutation2\n",
    "        son1[index2] = mutation1\n",
    "        GA_new_score = pd_get_score(parameter,son1,GA_job,TSF)\n",
    "        n += 1\n",
    "\n",
    "    row = {'index_list':son1,\n",
    "           'score':GA_new_score}\n",
    "    GA_all.iloc[99] = row"
   ],
   "metadata": {
    "collapsed": false
   }
  },
  {
   "cell_type": "code",
   "execution_count": null,
   "outputs": [],
   "source": [],
   "metadata": {
    "collapsed": false
   }
  }
 ],
 "metadata": {
  "kernelspec": {
   "display_name": "Python 3",
   "language": "python",
   "name": "python3"
  },
  "language_info": {
   "codemirror_mode": {
    "name": "ipython",
    "version": 2
   },
   "file_extension": ".py",
   "mimetype": "text/x-python",
   "name": "python",
   "nbconvert_exporter": "python",
   "pygments_lexer": "ipython2",
   "version": "2.7.6"
  }
 },
 "nbformat": 4,
 "nbformat_minor": 0
}

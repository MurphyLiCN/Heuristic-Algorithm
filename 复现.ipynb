{
 "cells": [
  {
   "cell_type": "code",
   "execution_count": 15,
   "outputs": [],
   "source": [
    "%reset"
   ],
   "metadata": {
    "collapsed": false
   }
  },
  {
   "cell_type": "code",
   "execution_count": 16,
   "outputs": [],
   "source": [
    "# 加载所需的库\n",
    "import pandas as pd\n",
    "import numpy as np\n",
    "import matplotlib.pyplot as plt"
   ],
   "metadata": {
    "collapsed": false
   }
  },
  {
   "cell_type": "code",
   "execution_count": 17,
   "outputs": [],
   "source": [
    "def initialization(n):\n",
    "    #产生随机仿真的工作表\n",
    "    joblist = pd.DataFrame(columns=['d_min','d_max','w_o','w_f','p','w','start','stop'],\n",
    "                           dtype = int)\n",
    "    #Trapezoidal Suitability Function,列标题代表区块开始的时间点\n",
    "    tsf = pd.DataFrame(0,index=range(100),columns=range(n))\n",
    "    for i in range(n):\n",
    "        #时间段：w,d_min,d_max,d\n",
    "        d_min = np.random.randint(1,25+1)\n",
    "        d_max = np.random.randint(d_min,25+1)\n",
    "        w = np.random.randint(d_max,25+1)\n",
    "        #时间点：w_o,w_f,start,stop\n",
    "        w_o = np.random.randint(0,100-w)\n",
    "        w_f = w_o + w\n",
    "        #优先级：p\n",
    "        p = np.random.randint(1,10+1)\n",
    "        # 更新joblist\n",
    "        joblist.loc[i] = (d_min,d_max,w_o,w_f,p,w,0,0)\n",
    "\n",
    "        # 更新打分函数\n",
    "        s_i = tsf[i].copy()\n",
    "        # 梯形4个顶点\n",
    "        a = w_o\n",
    "        b = int( w_o + np.ceil((w - d_max)/2) )\n",
    "        c = b + d_max\n",
    "        d = w_f\n",
    "        #赋值1\n",
    "        s_i[range(b,c)] = 1\n",
    "        #赋值2\n",
    "        if b > a:\n",
    "            degree_1 = 1/(2*(b-a))\n",
    "            n_1 = 1\n",
    "            for j in range(a,b):\n",
    "                s_i[j] = degree_1 * (2 * n_1 - 1)\n",
    "                n_1 += 1\n",
    "        #赋值3\n",
    "        if d > c:\n",
    "            degree_2 = 1/(2*(d-c))\n",
    "            n_2 = 1\n",
    "            for j in range(d-1,c-1,-1):\n",
    "                s_i[j] = degree_2 * (2 * n_2 - 1)\n",
    "                n_2 += 1\n",
    "\n",
    "        tsf[i] = s_i\n",
    "\n",
    "    return tsf,joblist"
   ],
   "metadata": {
    "collapsed": false
   }
  },
  {
   "cell_type": "code",
   "execution_count": 18,
   "outputs": [],
   "source": [
    "#初始化\n",
    "n = 40\n",
    "np.random.seed(1)\n",
    "TSF,JOB = initialization(n)"
   ],
   "metadata": {
    "collapsed": false
   }
  },
  {
   "cell_type": "code",
   "execution_count": 19,
   "outputs": [
    {
     "data": {
      "text/plain": "Int64Index([11, 24,  4,  8, 13, 35, 33, 30,  1, 19, 25, 16, 14, 22,  7, 37, 28,\n            32, 27, 34,  0, 29, 23, 20, 21, 18, 12,  9,  2,  6, 26,  3, 39, 31,\n             5, 36, 17, 15, 10, 38],\n           dtype='int64')"
     },
     "execution_count": 19,
     "metadata": {},
     "output_type": "execute_result"
    }
   ],
   "source": [
    "#PD算法：任务按照p值排序\n",
    "pd_job = JOB.copy()\n",
    "pd_joblist = JOB.sort_values(by='p',ascending = False).index\n",
    "pd_joblist"
   ],
   "metadata": {
    "collapsed": false
   }
  },
  {
   "cell_type": "code",
   "execution_count": 20,
   "outputs": [],
   "source": [
    "def pd_sequencing(n,pd_joblist,pd_job):\n",
    "    pd_timetable = pd.Series(1,index=range(100))\n",
    "    empty_timetable = pd.Series(0,index=range(100))\n",
    "    chosen_job_list = list()\n",
    "\n",
    "    for i in range(n):\n",
    "        job_index = pd_joblist[i]\n",
    "        job_info = pd_job.loc[job_index,]\n",
    "\n",
    "        d_min = job_info.loc['d_min']\n",
    "        d_max = JOB.loc[job_index,'d_max']\n",
    "        w_o = JOB.loc[job_index,'w_o']\n",
    "        w_f = JOB.loc[job_index,'w_f']\n",
    "        p = JOB.loc[job_index,'p']\n",
    "        w = JOB.loc[job_index,'w']\n",
    "\n",
    "        position_value = pd.Series(0,index=range(100))\n",
    "        at_least_one = False\n",
    "\n",
    "        for j in range(w-d_min+1):\n",
    "            test_start = w_o+j\n",
    "            test_stop = test_start+d_min\n",
    "            test_job = empty_timetable.copy()\n",
    "            test_job.loc[range(test_start,test_stop)]=1\n",
    "            if np.sum(test_job*pd_timetable) == d_min:\n",
    "                at_least_one = True\n",
    "                position_value.loc[test_start] =\\\n",
    "                    np.sum(TSF.loc[range(test_start,test_stop),job_index])\n",
    "\n",
    "        if at_least_one:\n",
    "            decide_start = \\\n",
    "                np.min(position_value.index[position_value == position_value.max()])\n",
    "            decide_stop = decide_start+d_min\n",
    "\n",
    "            pd_job.loc[job_index,'start'] = decide_start\n",
    "            pd_job.loc[job_index,'stop'] = decide_stop\n",
    "\n",
    "            chosen_job_list.append(job_index)\n",
    "\n",
    "        pd_timetable.loc[range(decide_start,decide_stop)]=0\n",
    "\n",
    "    return pd_job,chosen_job_list,pd_timetable"
   ],
   "metadata": {
    "collapsed": false
   }
  },
  {
   "cell_type": "code",
   "execution_count": 73,
   "outputs": [],
   "source": [
    "pd_job,pd_chosen_joblist,pd_timetable = pd_sequencing(n,pd_joblist,pd_job)\n",
    "test_pd_job = pd_job.copy()"
   ],
   "metadata": {
    "collapsed": false
   }
  },
  {
   "cell_type": "code",
   "execution_count": 74,
   "outputs": [],
   "source": [
    "for i in range(len(pd_chosen_joblist)):\n",
    "    job_index = pd_chosen_joblist[i]\n",
    "    job_info = pd_job.loc[job_index,]\n",
    "\n",
    "    d_min = test_pd_job.loc[job_index,'d_min']\n",
    "    d_max = test_pd_job.loc[job_index,'d_max']\n",
    "    w_o = test_pd_job.loc[job_index,'w_o']\n",
    "    w_f = test_pd_job.loc[job_index,'w_f']\n",
    "    p = test_pd_job.loc[job_index,'p']\n",
    "    w = test_pd_job.loc[job_index,'w']\n",
    "    start = test_pd_job.loc[job_index,'start']\n",
    "    stop = test_pd_job.loc[job_index,'stop']\n",
    "\n",
    "    new_start = np.nanmax([pd_job.loc[pd_job.loc[:,'stop']<start,'stop'].max(),\n",
    "                    w_o,stop-d_max])\n",
    "    new_stop = np.nanmin([pd_job.loc[pd_job.loc[:,'start']>stop,'start'].min(),\n",
    "                    w_f,new_start+d_max])\n",
    "\n",
    "    test_pd_job.loc[job_index,'start'] = new_start\n",
    "    test_pd_job.loc[job_index,'stop'] = new_stop\n",
    "\n"
   ],
   "metadata": {
    "collapsed": false
   }
  },
  {
   "cell_type": "code",
   "execution_count": 75,
   "outputs": [],
   "source": [
    "empty_timetable1 = pd.Series(0,index=range(100))\n",
    "empty_timetable2 = pd.Series(0, index=range(100))\n",
    "\n",
    "for i in range(n):\n",
    "    empty_timetable1.loc[range(test_pd_job.loc[i,'start'],test_pd_job.loc[i,'stop'])]=i\n",
    "    empty_timetable2.loc[range(pd_job.loc[i,'start'],pd_job.loc[i,'stop'])]=i\n",
    "empty_timetable = empty_timetable1-empty_timetable2"
   ],
   "metadata": {
    "collapsed": false
   }
  },
  {
   "cell_type": "code",
   "execution_count": null,
   "outputs": [],
   "source": [],
   "metadata": {
    "collapsed": false
   }
  }
 ],
 "metadata": {
  "kernelspec": {
   "display_name": "Python 3",
   "language": "python",
   "name": "python3"
  },
  "language_info": {
   "codemirror_mode": {
    "name": "ipython",
    "version": 2
   },
   "file_extension": ".py",
   "mimetype": "text/x-python",
   "name": "python",
   "nbconvert_exporter": "python",
   "pygments_lexer": "ipython2",
   "version": "2.7.6"
  }
 },
 "nbformat": 4,
 "nbformat_minor": 0
}

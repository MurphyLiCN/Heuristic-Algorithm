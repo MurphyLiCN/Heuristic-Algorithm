{
 "cells": [
  {
   "cell_type": "code",
   "execution_count": 93,
   "outputs": [],
   "source": [
    "%reset"
   ],
   "metadata": {
    "collapsed": false
   }
  },
  {
   "cell_type": "code",
   "execution_count": 94,
   "outputs": [],
   "source": [
    "# 加载所需的库\n",
    "import pandas as pd\n",
    "import numpy as np\n",
    "import matplotlib.pyplot as plt"
   ],
   "metadata": {
    "collapsed": false
   }
  },
  {
   "cell_type": "code",
   "execution_count": 96,
   "outputs": [],
   "source": [
    "def initialization(parameter):\n",
    "    #产生随机的工作表\n",
    "    joblist = pd.DataFrame(columns=['d_min','d_max','w_o','w_f','p','w','start','stop'],\n",
    "                           dtype = int)\n",
    "    #Trapezoidal Suitability Function，打分函数，列标题代表区块开始的时间点\n",
    "    tsf = pd.DataFrame(0,\n",
    "                       index=range(parameter['time_units']),\n",
    "                       columns=range(parameter['n']))\n",
    "    # 依次生存每一个任务的属性\n",
    "    for i in range(parameter['n']):\n",
    "        #时间段：w,d_min,d_max,d\n",
    "        d_min = np.random.randint(parameter['d_min'],parameter['d_max']+1)\n",
    "        d_max = np.random.randint(d_min,parameter['d_max']+1)\n",
    "        w = np.random.randint(d_max,parameter['w_max']+1)\n",
    "        #时间点：w_o,w_f,start,stop\n",
    "        w_o = np.random.randint(0,parameter['time_units']-w)\n",
    "        w_f = w_o + w\n",
    "        #优先级：p\n",
    "        p = np.random.randint(1,parameter['p_max']+1)\n",
    "        # 更新joblist\n",
    "        joblist.loc[i] = (d_min,d_max,w_o,w_f,p,w,0,0)\n",
    "\n",
    "        # 更新打分函数\n",
    "        s_i = tsf[i].copy()\n",
    "        # 梯形4个顶点\n",
    "        a = w_o\n",
    "        b = int( w_o + np.ceil((w - d_max)/2) )\n",
    "        c = b + d_max\n",
    "        d = w_f\n",
    "        #赋值1\n",
    "        s_i[range(b,c)] = 1\n",
    "        #赋值2\n",
    "        if b > a:\n",
    "            degree_1 = 1/(2*(b-a))\n",
    "            n_1 = 1\n",
    "            for j in range(a,b):\n",
    "                s_i[j] = degree_1 * (2 * n_1 - 1)\n",
    "                n_1 += 1\n",
    "        #赋值3\n",
    "        if d > c:\n",
    "            degree_2 = 1/(2*(d-c))\n",
    "            n_2 = 1\n",
    "            for j in range(d-1,c-1,-1):\n",
    "                s_i[j] = degree_2 * (2 * n_2 - 1)\n",
    "                n_2 += 1\n",
    "        #更新打分函数\n",
    "        tsf[i] = s_i\n",
    "\n",
    "    return tsf,joblist"
   ],
   "metadata": {
    "collapsed": false
   }
  },
  {
   "cell_type": "code",
   "execution_count": 99,
   "outputs": [],
   "source": [
    "def pd_sequencing(parameter,pd_jobindex,pd_job):\n",
    "    #总时间轴上1代表位置可用\n",
    "    pd_timetable = pd.Series(1,index=range(parameter['time_units']))\n",
    "    #任务时间轴上1代表在窗口中\n",
    "    empty_timetable = pd.Series(0,index=range(parameter['time_units']))\n",
    "    #建立空工作表，按顺序存放被选择的工作的序号\n",
    "    chosen_job_list = list()\n",
    "    #对每一个工作进行判断\n",
    "    for i in range(parameter['n']):\n",
    "        job_index = pd_jobindex[i]\n",
    "        job_info = pd_job.loc[job_index,]\n",
    "\n",
    "        d_min = job_info.loc['d_min']\n",
    "        d_max = job_info.loc['d_max']\n",
    "        w_o = job_info.loc['w_o']\n",
    "        w_f = job_info.loc['w_f']\n",
    "        p = job_info.loc['p']\n",
    "        w = job_info.loc['w']\n",
    "        #下序列用来存放每一个开始时间，长度为d_min的工作带来的收益\n",
    "        position_value = pd.Series(0,index=range(parameter['time_units']))\n",
    "        #假设没有可供使用的位置\n",
    "        at_least_one = False\n",
    "        #对每一个位置进行测试\n",
    "        for j in range(w-d_min+1):\n",
    "            test_start = w_o+j\n",
    "            test_stop = test_start+d_min\n",
    "            test_job = empty_timetable.copy()\n",
    "            test_job.loc[range(test_start,test_stop)]=1\n",
    "            #判断位置是否可用\n",
    "            if np.sum(test_job*pd_timetable) == d_min:\n",
    "                at_least_one = True\n",
    "                position_value.loc[test_start] =\\\n",
    "                    np.sum(TSF.loc[range(test_start,test_stop),job_index])\n",
    "        #如果有至少一个可用位置，则选择最大的那个\n",
    "        if at_least_one:\n",
    "            decide_start = \\\n",
    "                np.min(position_value.index[position_value == position_value.max()])\n",
    "            decide_stop = decide_start+d_min\n",
    "            #更新工作表\n",
    "            pd_job.loc[job_index,'start'] = decide_start\n",
    "            pd_job.loc[job_index,'stop'] = decide_stop\n",
    "            #更新工作序号表\n",
    "            chosen_job_list.append(job_index)\n",
    "        #刚刚被占用的位置不再可用\n",
    "        pd_timetable.loc[range(decide_start,decide_stop)]=0\n",
    "\n",
    "    return pd_job,chosen_job_list"
   ],
   "metadata": {
    "collapsed": false
   }
  },
  {
   "cell_type": "code",
   "execution_count": 101,
   "outputs": [],
   "source": [
    "def pd_timing(pd_chosen_jobindex,pd_job):\n",
    "    test_pd_job = pd_job.copy()\n",
    "    #对每一个工作进行左右延伸\n",
    "    for i in range(len(pd_chosen_jobindex)):\n",
    "        job_index = pd_chosen_jobindex[i]\n",
    "        job_info = test_pd_job.loc[job_index,]\n",
    "\n",
    "        d_min = job_info.loc['d_min']\n",
    "        d_max = job_info.loc['d_max']\n",
    "        w_o = job_info.loc['w_o']\n",
    "        w_f = job_info.loc['w_f']\n",
    "        p = job_info.loc['p']\n",
    "        w = job_info.loc['w']\n",
    "        start = job_info.loc['start']\n",
    "        stop = job_info.loc['stop']\n",
    "        #左右边界\n",
    "        new_start = np.nanmax([test_pd_job.loc[test_pd_job.loc[:,'stop']<=start,'stop'].max(),\n",
    "                               w_o,stop-d_max])\n",
    "        new_stop = np.nanmin([test_pd_job.loc[test_pd_job.loc[:,'start']>=stop,'start'].min(),\n",
    "                              w_f,new_start+d_max])\n",
    "        #左右延伸\n",
    "        test_pd_job.loc[job_index,'start'] = new_start\n",
    "        test_pd_job.loc[job_index,'stop'] = new_stop\n",
    "    return test_pd_job"
   ],
   "metadata": {
    "collapsed": false
   }
  },
  {
   "cell_type": "code",
   "execution_count": 103,
   "outputs": [],
   "source": [
    "def get_timetable(job,parameter):\n",
    "    empty_timetable = pd.Series(-1,index=range(parameter['time_units']))\n",
    "    for i in range(parameter['n']):\n",
    "        empty_timetable.loc[range(job.loc[i,'start'],job.loc[i,'stop'])]=i\n",
    "    return empty_timetable"
   ],
   "metadata": {
    "collapsed": false
   }
  },
  {
   "cell_type": "code",
   "execution_count": 106,
   "outputs": [],
   "source": [
    "def score(JOB,TSF,parameter):\n",
    "    s = 0\n",
    "    for i in range(parameter['n']):\n",
    "        start = JOB.loc[i,'start']\n",
    "        stop = JOB.loc[i,'stop']\n",
    "        p = JOB.loc[i,'p']\n",
    "\n",
    "        s_i = 0\n",
    "        for j in range(start,stop):\n",
    "            s_i += TSF.loc[j,i]\n",
    "\n",
    "        s += s_i * p\n",
    "    return s"
   ],
   "metadata": {
    "collapsed": false
   }
  },
  {
   "cell_type": "code",
   "execution_count": 95,
   "outputs": [],
   "source": [
    "# 设置参数\n",
    "parameter = {'n':40,\n",
    "             'time_units' : 100,\n",
    "             'w_max':25,\n",
    "             'd_min':1,\n",
    "             'd_max':25,\n",
    "             'p_max':10}"
   ],
   "metadata": {
    "collapsed": false
   }
  },
  {
   "cell_type": "code",
   "execution_count": 113,
   "outputs": [],
   "source": [
    "#初始化\n",
    "np.random.seed(1)\n",
    "TSF,JOB = initialization(parameter)"
   ],
   "metadata": {
    "collapsed": false
   }
  },
  {
   "cell_type": "code",
   "execution_count": 114,
   "outputs": [],
   "source": [
    "#PD算法：任务按照p值排序\n",
    "pd_job = JOB.copy()\n",
    "pd_jobindex = JOB.sort_values(by='p',ascending = False).index"
   ],
   "metadata": {
    "collapsed": false
   }
  },
  {
   "cell_type": "code",
   "execution_count": 115,
   "outputs": [],
   "source": [
    "pd_job,pd_chosen_jobindex = pd_sequencing(parameter,pd_jobindex,pd_job)"
   ],
   "metadata": {
    "collapsed": false
   }
  },
  {
   "cell_type": "code",
   "execution_count": 116,
   "outputs": [],
   "source": [
    "pd_job_after_timing = pd_timing(pd_chosen_jobindex,pd_job)"
   ],
   "metadata": {
    "collapsed": false
   }
  },
  {
   "cell_type": "code",
   "execution_count": 117,
   "outputs": [],
   "source": [
    "pd_s = score(pd_job,TSF,parameter)"
   ],
   "metadata": {
    "collapsed": false
   }
  },
  {
   "cell_type": "code",
   "execution_count": null,
   "outputs": [],
   "source": [],
   "metadata": {
    "collapsed": false
   }
  }
 ],
 "metadata": {
  "kernelspec": {
   "display_name": "Python 3",
   "language": "python",
   "name": "python3"
  },
  "language_info": {
   "codemirror_mode": {
    "name": "ipython",
    "version": 2
   },
   "file_extension": ".py",
   "mimetype": "text/x-python",
   "name": "python",
   "nbconvert_exporter": "python",
   "pygments_lexer": "ipython2",
   "version": "2.7.6"
  }
 },
 "nbformat": 4,
 "nbformat_minor": 0
}

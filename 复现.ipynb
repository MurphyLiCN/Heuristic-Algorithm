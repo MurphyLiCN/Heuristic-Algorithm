{
 "cells": [
  {
   "cell_type": "code",
   "execution_count": 9,
   "metadata": {
    "collapsed": true
   },
   "outputs": [],
   "source": [
    "# 加载所需的库\n",
    "import pandas as pd\n",
    "import numpy as np\n",
    "import matplotlib.pyplot as plt"
   ]
  },
  {
   "cell_type": "code",
   "execution_count": 8,
   "outputs": [],
   "source": [
    "%reset"
   ],
   "metadata": {
    "collapsed": false
   }
  },
  {
   "cell_type": "code",
   "execution_count": 10,
   "outputs": [],
   "source": [
    "def initialization(n):\n",
    "    #产生随机仿真的工作表\n",
    "    joblist = pd.DataFrame(columns=['d_min','d_max','w_o','w_f','p','w'])\n",
    "    #Trapezoidal Suitability Function,列标题代表区块开始的时间点\n",
    "    tsf = pd.DataFrame(0,index=range(100),columns=range(n))\n",
    "    for i in range(n):\n",
    "        #时间段：w,d_min,d_max,d\n",
    "        d_min = np.random.randint(1,25+1)\n",
    "        d_max = np.random.randint(d_min,25+1)\n",
    "        w = np.random.randint(d_max,25+1)\n",
    "        #时间点：w_o,w_f,start,stop\n",
    "        w_o = np.random.randint(0,100-w)\n",
    "        w_f = w_o + w\n",
    "        #优先级：p\n",
    "        p = np.random.randint(1,10+1)\n",
    "        # 更新joblist\n",
    "        joblist.loc[i] = (d_min,d_max,w_o,w_f,p,w)\n",
    "\n",
    "\n",
    "        # 更新打分函数\n",
    "        s_i = tsf[i].copy()\n",
    "        # 梯形4个顶点\n",
    "        a = w_o\n",
    "        b = int( w_o + np.ceil((w - d_max)/2) )\n",
    "        c = b + d_max\n",
    "        d = w_f\n",
    "        #赋值1\n",
    "        s_i[range(b,c)] = 1\n",
    "        #赋值2\n",
    "        if b > a:\n",
    "            degree_1 = 1/(2*(b-a))\n",
    "            n_1 = 1\n",
    "            for j in range(a,b):\n",
    "                s_i[j] = degree_1 * (2 * n_1 - 1)\n",
    "                n_1 += 1\n",
    "        #赋值3\n",
    "        if d > c:\n",
    "            degree_2 = 1/(2*(d-c))\n",
    "            n_2 = 1\n",
    "            for j in range(d-1,c-1,-1):\n",
    "                s_i[j] = degree_2 * (2 * n_2 - 1)\n",
    "                n_2 += 1\n",
    "\n",
    "        tsf[i] = s_i\n",
    "\n",
    "    return tsf,joblist"
   ],
   "metadata": {
    "collapsed": false
   }
  },
  {
   "cell_type": "code",
   "execution_count": 12,
   "outputs": [],
   "source": [
    "n = 40\n",
    "np.random.seed(1)\n",
    "TSF,JOB = initialization(n)"
   ],
   "metadata": {
    "collapsed": false
   }
  },
  {
   "cell_type": "code",
   "execution_count": null,
   "outputs": [],
   "source": [],
   "metadata": {
    "collapsed": false
   }
  }
 ],
 "metadata": {
  "kernelspec": {
   "display_name": "Python 3",
   "language": "python",
   "name": "python3"
  },
  "language_info": {
   "codemirror_mode": {
    "name": "ipython",
    "version": 2
   },
   "file_extension": ".py",
   "mimetype": "text/x-python",
   "name": "python",
   "nbconvert_exporter": "python",
   "pygments_lexer": "ipython2",
   "version": "2.7.6"
  }
 },
 "nbformat": 4,
 "nbformat_minor": 0
}

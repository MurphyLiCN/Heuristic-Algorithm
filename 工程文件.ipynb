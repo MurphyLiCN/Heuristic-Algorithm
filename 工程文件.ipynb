{
 "cells": [
  {
   "cell_type": "code",
   "execution_count": null,
   "metadata": {
    "collapsed": true
   },
   "outputs": [],
   "source": [
    "pd_timetable = pd.Series(1,index=range(100))\n",
    "pd_index_timetable = pd.Series(-1,index=range(100))\n",
    "empty_timetable = pd.Series(0,index=range(100))\n",
    "\n",
    "for i in range(n):\n",
    "    job_index = PDlist[i]\n",
    "    job_info = job_PD.loc[job_index,]\n",
    "\n",
    "    d_min = job_info.loc['d_min']\n",
    "    d_max = JOB.loc[job_index,'d_max']\n",
    "    w_o = JOB.loc[job_index,'w_o']\n",
    "    w_f = JOB.loc[job_index,'w_f']\n",
    "    p = JOB.loc[job_index,'p']\n",
    "    w = JOB.loc[job_index,'w']\n",
    "\n",
    "    position_value = pd.Series(0,index=range(100))\n",
    "    at_least_one = False\n",
    "\n",
    "    for j in range(w-d_min+1):\n",
    "        test_start = w_o+j\n",
    "        test_stop = test_start+d_min\n",
    "        test_job = empty_timetable.copy()\n",
    "        test_job.loc[range(test_start,test_stop)]=1\n",
    "        if np.sum(test_job*pd_timetable) == d_min:\n",
    "            at_least_one = True\n",
    "            position_value.loc[test_start] =\\\n",
    "                np.sum(TSF.loc[range(test_start,test_stop),job_index])\n",
    "\n",
    "    if at_least_one:\n",
    "        decide_start = \\\n",
    "            np.min(position_value.index[position_value == position_value.max()])\n",
    "        decide_stop = decide_start+d_min\n",
    "\n",
    "        job_PD.loc[job_index,'start'] = decide_start\n",
    "        job_PD.loc[job_index,'stop'] = decide_stop\n",
    "\n",
    "    pd_timetable.loc[range(decide_start,decide_stop)]=0\n",
    "    pd_index_timetable.loc[range(decide_start,decide_stop)]=job_index"
   ]
  },
  {
   "cell_type": "code",
   "execution_count": null,
   "outputs": [],
   "source": [
    "job_index = PDlist[i]\n",
    "job_info = JOB.loc[job_index,]\n",
    "d_min = job_info.loc['d_min']"
   ],
   "metadata": {
    "collapsed": false
   }
  },
  {
   "cell_type": "code",
   "execution_count": null,
   "outputs": [],
   "source": [
    "d_min = 6\n",
    "d_max = 17\n",
    "w_o = 9\n",
    "w_f = 34\n",
    "p = 6\n",
    "w = 25\n",
    "jobindex = 0\n",
    "start = 10\n",
    "stop = 16\n",
    "s = np.sum(TSF.loc[range(start,stop),jobindex])\n"
   ],
   "metadata": {
    "collapsed": false
   }
  },
  {
   "cell_type": "code",
   "execution_count": null,
   "outputs": [],
   "source": [
    "pd_timetable = pd.Series(1,index=range(100))\n",
    "job_window = pd.Series(0,index=range(100))\n",
    "empty_timetable = pd.Series(0,index=range(100))\n",
    "job_window.loc[range(w_o,w_f)]=1\n",
    "job_window*pd_timetable\n",
    "haha = pd.Series(0,index=range(100))\n",
    "for i in range(w-d_min+1):\n",
    "    test_start = w_o+i\n",
    "    test_stop = test_start+d_min\n",
    "    test_job = empty_timetable.copy()\n",
    "    test_job.loc[range(test_start,test_stop)]=1\n",
    "    if np.sum(test_job*pd_timetable) == d_min:\n",
    "        haha.loc[test_start] = np.sum(TSF.loc[range(test_start,test_stop),jobindex])\n",
    "decide_start = np.min(haha.index[haha == haha.max()])\n",
    "decide_stop = decide_start+d_min\n",
    "pd_timetable.loc[range(decide_start,decide_stop)]=0\n"
   ],
   "metadata": {
    "collapsed": false
   }
  }
 ],
 "metadata": {
  "kernelspec": {
   "display_name": "Python 3",
   "language": "python",
   "name": "python3"
  },
  "language_info": {
   "codemirror_mode": {
    "name": "ipython",
    "version": 2
   },
   "file_extension": ".py",
   "mimetype": "text/x-python",
   "name": "python",
   "nbconvert_exporter": "python",
   "pygments_lexer": "ipython2",
   "version": "2.7.6"
  }
 },
 "nbformat": 4,
 "nbformat_minor": 0
}

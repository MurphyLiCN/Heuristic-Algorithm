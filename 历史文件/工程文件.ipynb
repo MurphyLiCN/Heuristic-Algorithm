{
 "cells": [
  {
   "cell_type": "code",
   "execution_count": 2,
   "outputs": [],
   "source": [
    "for i in range(0,0):\n",
    "    print(i)"
   ],
   "metadata": {
    "collapsed": false
   }
  },
  {
   "cell_type": "code",
   "execution_count": null,
   "metadata": {
    "collapsed": true
   },
   "outputs": [],
   "source": [
    "pd_timetable = pd.Series(1,index=range(100))\n",
    "pd_index_timetable = pd.Series(-1,index=range(100))\n",
    "empty_timetable = pd.Series(0,index=range(100))\n",
    "\n",
    "for i in range(n):\n",
    "    job_index = PDlist[i]\n",
    "    job_info = job_PD.loc[job_index,]\n",
    "\n",
    "    d_min = job_info.loc['d_min']\n",
    "    d_max = JOB.loc[job_index,'d_max']\n",
    "    w_o = JOB.loc[job_index,'w_o']\n",
    "    w_f = JOB.loc[job_index,'w_f']\n",
    "    p = JOB.loc[job_index,'p']\n",
    "    w = JOB.loc[job_index,'w']\n",
    "\n",
    "    position_value = pd.Series(0,index=range(100))\n",
    "    at_least_one = False\n",
    "\n",
    "    for j in range(w-d_min+1):\n",
    "        test_start = w_o+j\n",
    "        test_stop = test_start+d_min\n",
    "        test_job = empty_timetable.copy()\n",
    "        test_job.loc[range(test_start,test_stop)]=1\n",
    "        if np.sum(test_job*pd_timetable) == d_min:\n",
    "            at_least_one = True\n",
    "            position_value.loc[test_start] =\\\n",
    "                np.sum(TSF.loc[range(test_start,test_stop),job_index])\n",
    "\n",
    "    if at_least_one:\n",
    "        decide_start = \\\n",
    "            np.min(position_value.index[position_value == position_value.max()])\n",
    "        decide_stop = decide_start+d_min\n",
    "\n",
    "        job_PD.loc[job_index,'start'] = decide_start\n",
    "        job_PD.loc[job_index,'stop'] = decide_stop\n",
    "\n",
    "    pd_timetable.loc[range(decide_start,decide_stop)]=0\n",
    "    pd_index_timetable.loc[range(decide_start,decide_stop)]=job_index"
   ]
  },
  {
   "cell_type": "code",
   "execution_count": null,
   "outputs": [],
   "source": [],
   "metadata": {
    "collapsed": false
   }
  },
  {
   "cell_type": "code",
   "execution_count": null,
   "outputs": [],
   "source": [
    "LA_job = JOB.copy()\n",
    "\n",
    "#总时间轴,1代表位置可用\n",
    "LA_timetable = pd.Series(1,index=range(parameter['time_units']))\n",
    "#任务时间轴,1代表该时间在该任务的窗口中\n",
    "empty_timetable = pd.Series(0,index=range(parameter['time_units']))\n",
    "\n",
    "for i in range(parameter['n']):\n",
    "    job_index = job_index_ordered_by_p[i]\n",
    "    job_info = LA_job.loc[job_index,]\n",
    "\n",
    "    d_min = job_info.loc['d_min']\n",
    "    d_max = job_info.loc['d_max']\n",
    "    w_o = job_info.loc['w_o']\n",
    "    w_f = job_info.loc['w_f']\n",
    "    p = job_info.loc['p']\n",
    "    w = job_info.loc['w']\n",
    "\n",
    "    test_score = 0\n",
    "    best_start = 0\n",
    "    best_stop = 0\n",
    "\n",
    "    for start in range(w_o,w_f-d_min+1):\n",
    "        for d in range(d_min,min(d_max,w_f-start)+1):\n",
    "            stop = start+d\n",
    "            test_timetable = empty_timetable.copy()\n",
    "            test_timetable.loc[range(start,stop)]=1\n",
    "\n",
    "            if np.sum(test_timetable*LA_timetable) == d:\n",
    "                test_LA_job = LA_job.copy()\n",
    "                test_LA_job.loc[job_index,'start'] = start\n",
    "                test_LA_job.loc[job_index,'stop'] = stop\n",
    "                test_job_index_ordered_by_p = job_index_ordered_by_p[(i+1):]\n",
    "\n",
    "                new_test_score =\\\n",
    "                    pd_get_score(parameter,test_job_index_ordered_by_p,test_LA_job,TSF)\n",
    "\n",
    "                test_score = max(test_score,new_test_score)\n",
    "                if new_test_score == test_score:\n",
    "                    best_start = start\n",
    "                    best_stop = stop\n",
    "\n",
    "    LA_job.loc[job_index,'start'] = best_start\n",
    "    LA_job.loc[job_index,'stop'] = best_stop\n",
    "\n",
    "    LA_timetable.loc[range(best_start,best_stop)]=0\n"
   ],
   "metadata": {
    "collapsed": false
   }
  },
  {
   "cell_type": "code",
   "execution_count": null,
   "outputs": [],
   "source": [
    "job_index = PDlist[i]\n",
    "job_info = JOB.loc[job_index,]\n",
    "d_min = job_info.loc['d_min']"
   ],
   "metadata": {
    "collapsed": false
   }
  },
  {
   "cell_type": "code",
   "execution_count": null,
   "outputs": [],
   "source": [
    "d_min = 6\n",
    "d_max = 17\n",
    "w_o = 9\n",
    "w_f = 34\n",
    "p = 6\n",
    "w = 25\n",
    "jobindex = 0\n",
    "start = 10\n",
    "stop = 16\n",
    "s = np.sum(TSF.loc[range(start,stop),jobindex])\n"
   ],
   "metadata": {
    "collapsed": false
   }
  },
  {
   "cell_type": "code",
   "execution_count": null,
   "outputs": [],
   "source": [
    "pd_timetable = pd.Series(1,index=range(100))\n",
    "job_window = pd.Series(0,index=range(100))\n",
    "empty_timetable = pd.Series(0,index=range(100))\n",
    "job_window.loc[range(w_o,w_f)]=1\n",
    "job_window*pd_timetable\n",
    "haha = pd.Series(0,index=range(100))\n",
    "for i in range(w-d_min+1):\n",
    "    test_start = w_o+i\n",
    "    test_stop = test_start+d_min\n",
    "    test_job = empty_timetable.copy()\n",
    "    test_job.loc[range(test_start,test_stop)]=1\n",
    "    if np.sum(test_job*pd_timetable) == d_min:\n",
    "        haha.loc[test_start] = np.sum(TSF.loc[range(test_start,test_stop),jobindex])\n",
    "decide_start = np.min(haha.index[haha == haha.max()])\n",
    "decide_stop = decide_start+d_min\n",
    "pd_timetable.loc[range(decide_start,decide_stop)]=0\n"
   ],
   "metadata": {
    "collapsed": false
   }
  },
  {
   "cell_type": "code",
   "execution_count": null,
   "outputs": [],
   "source": [
    "for i in range(len(pd_chosen_jobindex)):\n",
    "    job_index = pd_chosen_jobindex[i]\n",
    "    job_info = pd_job.loc[job_index,]\n",
    "\n",
    "    d_min = test_pd_job.loc[job_index,'d_min']\n",
    "    d_max = test_pd_job.loc[job_index,'d_max']\n",
    "    w_o = test_pd_job.loc[job_index,'w_o']\n",
    "    w_f = test_pd_job.loc[job_index,'w_f']\n",
    "    p = test_pd_job.loc[job_index,'p']\n",
    "    w = test_pd_job.loc[job_index,'w']\n",
    "    start = test_pd_job.loc[job_index,'start']\n",
    "    stop = test_pd_job.loc[job_index,'stop']\n",
    "\n",
    "    new_start = np.nanmax([pd_job.loc[pd_job.loc[:,'stop']<start,'stop'].max(),\n",
    "                           w_o,stop-d_max])\n",
    "    new_stop = np.nanmin([pd_job.loc[pd_job.loc[:,'start']>stop,'start'].min(),\n",
    "                          w_f,new_start+d_max])\n",
    "\n",
    "    test_pd_job.loc[job_index,'start'] = new_start\n",
    "    test_pd_job.loc[job_index,'stop'] = new_stop\n"
   ],
   "metadata": {
    "collapsed": false
   }
  },
  {
   "cell_type": "code",
   "execution_count": null,
   "outputs": [],
   "source": [
    "GA_all = pd.DataFrame(columns=['index_list','score'])\n",
    "GA_job = JOB.copy()\n",
    "for i in range(100):\n",
    "    index_list = np.arange(40)\n",
    "    np.random.shuffle(index_list)\n",
    "    GA_score = pd_get_score(parameter,index_list,GA_job,TSF)\n",
    "    row = {'index_list':index_list,\n",
    "           'score':GA_score}\n",
    "    GA_all.loc[i] = row"
   ],
   "metadata": {
    "collapsed": false
   }
  },
  {
   "cell_type": "code",
   "execution_count": null,
   "outputs": [],
   "source": [
    "GA_all.sort_values(by='score',ascending = False,inplace=True)"
   ],
   "metadata": {
    "collapsed": false
   }
  },
  {
   "cell_type": "code",
   "execution_count": null,
   "outputs": [],
   "source": [
    "# GA_all['index_list']"
   ],
   "metadata": {
    "collapsed": false
   }
  },
  {
   "cell_type": "code",
   "execution_count": null,
   "outputs": [],
   "source": [
    "for i in range(1000):\n",
    "    GA_all.sort_values(by='score',ascending = False,inplace=True)\n",
    "    parent1_index = np.random.randint(50)\n",
    "    parent2_index = np.random.randint(100)\n",
    "    GA_all.loc[parent1_index,'index_list']\n",
    "    son1 = PMX_crossover(GA_all.loc[parent1_index,'index_list'],\n",
    "                         GA_all.loc[parent2_index,'index_list'])\n",
    "    GA_new_score = pd_get_score(parameter,son1,GA_job,TSF)\n",
    "    n = 0\n",
    "    while sum(GA_all['score'] == GA_new_score)>0 and n < 10:\n",
    "        index1 = np.random.randint(40)\n",
    "        index2 = np.random.randint(40)\n",
    "        mutation1 = son1[index1]\n",
    "        mutation2 = son1[index2]\n",
    "        son1[index1] = mutation2\n",
    "        son1[index2] = mutation1\n",
    "        GA_new_score = pd_get_score(parameter,son1,GA_job,TSF)\n",
    "        n += 1\n",
    "\n",
    "    row = {'index_list':son1,\n",
    "           'score':GA_new_score}\n",
    "    GA_all.iloc[99] = row"
   ],
   "metadata": {
    "collapsed": false
   }
  },
  {
   "cell_type": "code",
   "execution_count": null,
   "outputs": [],
   "source": [
    "GA_score =max(GA_all['score'])\n"
   ],
   "metadata": {
    "collapsed": false
   }
  },
  {
   "cell_type": "code",
   "execution_count": null,
   "outputs": [],
   "source": [
    "def pd_sequencing(parameter,pd_jobindex,job):\n",
    "    pd_job = job.copy()\n",
    "    #总时间轴,1代表位置可用\n",
    "    pd_timetable = pd.Series(1,index=range(parameter['time_units']))\n",
    "    #初始化总时间轴，因为有可能已经有任务指定了时间\n",
    "    for i in range(parameter['n']):\n",
    "        pd_timetable.loc[range(pd_job.loc[i,'start'],pd_job.loc[i,'stop'])]=0\n",
    "    #任务时间轴,1代表该时间在该任务的窗口中\n",
    "    empty_timetable = pd.Series(0,index=range(parameter['time_units']))\n",
    "    #建立空工作表，按顺序存放被选择的工作的序号\n",
    "    chosen_job_list = list()\n",
    "\n",
    "    #对每一个工作进行判断\n",
    "    for i in range(len(pd_jobindex)):\n",
    "        job_index = pd_jobindex[i]\n",
    "        job_info = pd_job.loc[job_index,]\n",
    "\n",
    "        d_min = job_info.loc['d_min']\n",
    "        d_max = job_info.loc['d_max']\n",
    "        w_o = job_info.loc['w_o']\n",
    "        w_f = job_info.loc['w_f']\n",
    "        p = job_info.loc['p']\n",
    "        w = job_info.loc['w']\n",
    "        #下序列用来存放每一个开始时间，长度为d_min的工作带来的收益\n",
    "        position_value = pd.Series(0,index=range(parameter['time_units']))\n",
    "        #假设没有可供使用的位置\n",
    "        at_least_one = False\n",
    "        #对每一个位置进行测试\n",
    "        for j in range(w-d_min+1):\n",
    "            test_start = w_o+j\n",
    "            test_stop = test_start+d_min\n",
    "            test_job = empty_timetable.copy()\n",
    "            test_job.loc[range(test_start,test_stop)]=1\n",
    "            #判断位置是否可用\n",
    "            if np.sum(test_job*pd_timetable) == d_min:\n",
    "                at_least_one = True\n",
    "                position_value.loc[test_start] = \\\n",
    "                    np.sum(TSF.loc[range(test_start,test_stop),job_index])\n",
    "        #如果有至少一个可用位置，则选择最大的那个\n",
    "        if at_least_one:\n",
    "            decide_start = \\\n",
    "                np.min(position_value.index[position_value == position_value.max()])\n",
    "            decide_stop = decide_start+d_min\n",
    "            #更新工作表\n",
    "            pd_job.loc[job_index,'start'] = decide_start\n",
    "            pd_job.loc[job_index,'stop'] = decide_stop\n",
    "            #更新工作序号表\n",
    "            chosen_job_list.append(job_index)\n",
    "        else:\n",
    "            decide_start = 0\n",
    "            decide_stop = 0\n",
    "        #刚刚被占用的位置不再可用\n",
    "        pd_timetable.loc[range(decide_start,decide_stop)]=0\n",
    "\n",
    "    return pd_job,chosen_job_list\n"
   ],
   "metadata": {
    "collapsed": false
   }
  }
 ],
 "metadata": {
  "kernelspec": {
   "display_name": "Python 3",
   "language": "python",
   "name": "python3"
  },
  "language_info": {
   "codemirror_mode": {
    "name": "ipython",
    "version": 2
   },
   "file_extension": ".py",
   "mimetype": "text/x-python",
   "name": "python",
   "nbconvert_exporter": "python",
   "pygments_lexer": "ipython2",
   "version": "2.7.6"
  }
 },
 "nbformat": 4,
 "nbformat_minor": 0
}
